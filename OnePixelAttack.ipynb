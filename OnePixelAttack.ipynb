{
 "cells": [
  {
   "cell_type": "markdown",
   "id": "e5e119c3",
   "metadata": {},
   "source": [
    "# <center> One Pixel Attack  \n",
    "## <center> Tromper un modèle de classification d'images\n",
    "\n",
    "### Introduction\n",
    "\n",
    "L'attaque One Pixel (One Pixel Attack en anglais) est une technique d'attaque ciblée visant à tromper les modèles de classification d'images en modifiant uniquement quelques pixels de l'image d'entrée. Cette attaque démontre la vulnérabilité des modèles de deep learning face à des perturbations minimes et imperceptibles pour les humains, mais qui peuvent induire en erreur les algorithmes de classification.\n",
    "\n",
    "Dans ce notebook, nous allons illustrer le fonctionnement de l'attaque One Pixel en utilisant un modèle de classification d'images pré-entraîné (ResNet50) et en effectuant une attaque sur une image d'exemple.\n",
    "\n",
    "#### Étape 1 : Préparation de l'environnement\n",
    "\n",
    "Commençons par importer les bibliothèques nécessaires et charger le modèle pré-entraîné (ResNet50) :\n",
    "\n"
   ]
  },
  {
   "cell_type": "code",
   "execution_count": null,
   "id": "9ddeae20",
   "metadata": {},
   "outputs": [],
   "source": [
    "import numpy as np\n",
    "import tensorflow as tf\n",
    "from tensorflow import keras\n",
    "from scipy.optimize import differential_evolution\n",
    "\n",
    "# Charger le modèle de classification d'images pré-entraîné (ResNet50)\n",
    "model = keras.applications.ResNet50(weights='imagenet')\n"
   ]
  },
  {
   "cell_type": "markdown",
   "id": "e7b4d222",
   "metadata": {},
   "source": [
    "#### Étape 2 : Chargement de l'image\n",
    "\n",
    "Nous allons charger l'image d'entrée sur laquelle nous allons effectuer l'attaque One Pixel. Assurez-vous d'avoir une image appropriée dans le répertoire et de fournir le chemin correct :"
   ]
  },
  {
   "cell_type": "code",
   "execution_count": null,
   "id": "e0b0369d",
   "metadata": {},
   "outputs": [],
   "source": [
    "# Chargement de l'image d'entrée\n",
    "image = keras.preprocessing.image.load_img('input_image.jpg', target_size=(224, 224))\n",
    "image = keras.preprocessing.image.img_to_array(image) / 255.0\n"
   ]
  },
  {
   "cell_type": "markdown",
   "id": "d4fef2fa",
   "metadata": {},
   "source": [
    "#### Étape 3 : Définition de l'objectif de l'attaque\n",
    "\n",
    "Choisissons la classe de sortie que nous souhaitons induire le modèle à prédire de manière incorrecte. Dans cet exemple, nous utiliserons la classe \"chien\" (indice 207) :"
   ]
  },
  {
   "cell_type": "code",
   "execution_count": null,
   "id": "71e4801a",
   "metadata": {},
   "outputs": [],
   "source": [
    "# Classe ciblée pour l'attaque (ex. \"chien\" dans le cas d'un modèle ImageNet)\n",
    "target_class = 207\n"
   ]
  },
  {
   "cell_type": "markdown",
   "id": "73eb9480",
   "metadata": {},
   "source": [
    "#### Étape 4 : Implémentation de l'attaque One Pixel\n",
    "\n",
    "Nous allons maintenant implémenter l'attaque One Pixel en utilisant l'algorithme d'optimisation différentielle (differential_evolution) pour trouver les coordonnées du pixel et les valeurs de couleur qui maximisent la probabilité de mauvaise classification pour la classe ciblée :"
   ]
  },
  {
   "cell_type": "code",
   "execution_count": null,
   "id": "a04e10ae",
   "metadata": {},
   "outputs": [],
   "source": [
    "# Fonction pour évaluer la probabilité de mauvaise classification\n",
    "def evaluate_attack(x, image, target_class):\n",
    "    perturbed_image = image.copy()\n",
    "    perturbed_image[x[0], x[1], :] = x[2:]\n",
    "    perturbed_image = np.expand_dims(perturbed_image, axis=0)\n",
    "    predictions = model.predict(perturbed_image)\n",
    "    predicted_class = np.argmax(predictions[0])\n",
    "    return 1.0 - predictions[0][target_class]\n",
    "\n",
    "# Fonction pour effectuer l'attaque One Pixel\n",
    "def one_pixel_attack(image, target_class):\n",
    "    bounds = [(0, image.shape[0]-1), (0, image.shape[1]-1), (0, 255), (0, 255), (0, 255)]\n",
    "    result = differential_evolution(evaluate_attack, bounds, args=(image, target_class))\n",
    "    best_pixel = result.x[:3].astype(int)\n",
    "    best_color = result.x[3:].astype(int)\n",
    "    return best_pixel, best_color\n",
    "\n",
    "# Effectuer l'attaque One Pixel\n",
    "best_pixel, best_color = one_pixel_attack(image, target_class)\n"
   ]
  },
  {
   "cell_type": "markdown",
   "id": "b55e338b",
   "metadata": {},
   "source": [
    "#### Étape 5 : Évaluation de l'attaque\n",
    "\n",
    "Une fois l'attaque One Pixel effectuée, nous allons évaluer le résultat en générant l'image perturbée et en utilisant le modèle pour prédire la classe de l'image modifiée :"
   ]
  },
  {
   "cell_type": "code",
   "execution_count": null,
   "id": "44d2beb0",
   "metadata": {},
   "outputs": [],
   "source": [
    "# Générer l'image perturbée\n",
    "perturbed_image = image.copy()\n",
    "perturbed_image[best_pixel[0], best_pixel[1], :] = best_color / 255.0\n",
    "\n",
    "# Prédiction du modèle sur l'image perturbée\n",
    "perturbed_image = np.expand_dims(perturbed_image, axis=0)\n",
    "predictions = model.predict(perturbed_image)\n",
    "predicted_class = np.argmax(predictions[0])\n",
    "predicted_label = keras.applications.resnet50.decode_predictions(predictions, top=1)[0][0][1]\n"
   ]
  },
  {
   "cell_type": "markdown",
   "id": "9f0ccb47",
   "metadata": {},
   "source": [
    "#### Résultats\n",
    "\n",
    "Affichons maintenant les résultats de l'attaque, y compris les coordonnées et les valeurs du pixel modifié, ainsi que la classe prédite par le modèle pour l'image perturbée :"
   ]
  },
  {
   "cell_type": "code",
   "execution_count": null,
   "id": "f517bf53",
   "metadata": {},
   "outputs": [],
   "source": [
    "print(\"Pixel modifié :\", best_pixel)\n",
    "print(\"Couleur modifiée :\", best_color)\n",
    "print(\"Classe prédite :\", predicted_class)\n",
    "print(\"Étiquette prédite :\", predicted_label)"
   ]
  },
  {
   "cell_type": "markdown",
   "id": "a47e4fc4",
   "metadata": {},
   "source": [
    "Ce notebook a illustré le processus de l'attaque One Pixel en utilisant un modèle de classification d'images pré-entraîné. Il est important de noter que cet exemple est fourni à des fins éducatives pour illustrer le concept de l'attaque One Pixel. Assurez-vous de respecter les lois et les règlements en vigueur concernant l'utilisation éthique et responsable des techniques d'attaque et de défense en matière de sécurité informatique.\n",
    "\n",
    "N'hésitez pas à expérimenter avec différentes images et classes ciblées pour approfondir votre compréhension de l'attaque One Pixel et de ses implications."
   ]
  }
 ],
 "metadata": {
  "kernelspec": {
   "display_name": "Python 3 (ipykernel)",
   "language": "python",
   "name": "python3"
  },
  "language_info": {
   "codemirror_mode": {
    "name": "ipython",
    "version": 3
   },
   "file_extension": ".py",
   "mimetype": "text/x-python",
   "name": "python",
   "nbconvert_exporter": "python",
   "pygments_lexer": "ipython3",
   "version": "3.8.8"
  }
 },
 "nbformat": 4,
 "nbformat_minor": 5
}
